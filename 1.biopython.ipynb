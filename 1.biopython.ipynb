{
 "cells": [
  {
   "cell_type": "markdown",
   "metadata": {},
   "source": [
    "# Process FASTQ files in biopython\n",
    "\n",
    "http://biopython.org/wiki/SeqIO"
   ]
  },
  {
   "cell_type": "code",
   "execution_count": 1,
   "metadata": {
    "collapsed": true
   },
   "outputs": [],
   "source": [
    "import pathlib\n",
    "import gzip\n",
    "\n",
    "import Bio.SeqIO"
   ]
  },
  {
   "cell_type": "code",
   "execution_count": 2,
   "metadata": {},
   "outputs": [
    {
     "data": {
      "text/plain": [
       "[PosixPath('samples/ubiome/ssr_178900/ssr_178900__R1__L001.fastq.gz'),\n",
       " PosixPath('samples/ubiome/ssr_178900/ssr_178900__R1__L002.fastq.gz'),\n",
       " PosixPath('samples/ubiome/ssr_178900/ssr_178900__R1__L003.fastq.gz'),\n",
       " PosixPath('samples/ubiome/ssr_178900/ssr_178900__R1__L004.fastq.gz'),\n",
       " PosixPath('samples/ubiome/ssr_178900/ssr_178900__R2__L001.fastq.gz'),\n",
       " PosixPath('samples/ubiome/ssr_178900/ssr_178900__R2__L002.fastq.gz'),\n",
       " PosixPath('samples/ubiome/ssr_178900/ssr_178900__R2__L003.fastq.gz'),\n",
       " PosixPath('samples/ubiome/ssr_178900/ssr_178900__R2__L004.fastq.gz')]"
      ]
     },
     "execution_count": 2,
     "metadata": {},
     "output_type": "execute_result"
    }
   ],
   "source": [
    "directory = pathlib.Path('samples/ubiome')\n",
    "fastq_paths = sorted(directory.glob('**/*.fastq.gz'))\n",
    "fastq_paths"
   ]
  },
  {
   "cell_type": "code",
   "execution_count": 3,
   "metadata": {},
   "outputs": [
    {
     "name": "stdout",
     "output_type": "stream",
     "text": [
      "CPU times: user 220 ms, sys: 8 ms, total: 228 ms\n",
      "Wall time: 236 ms\n"
     ]
    }
   ],
   "source": [
    "%%time\n",
    "path = fastq_paths[0]\n",
    "with gzip.open(path, 'rt') as file_handle:\n",
    "    sequences = list(Bio.SeqIO.parse(file_handle, \"fastq\"))"
   ]
  },
  {
   "cell_type": "code",
   "execution_count": 4,
   "metadata": {},
   "outputs": [
    {
     "data": {
      "text/plain": [
       "10675"
      ]
     },
     "execution_count": 4,
     "metadata": {},
     "output_type": "execute_result"
    }
   ],
   "source": [
    "len(sequences)"
   ]
  },
  {
   "cell_type": "code",
   "execution_count": 5,
   "metadata": {},
   "outputs": [
    {
     "data": {
      "text/plain": [
       "SeqRecord(seq=Seq('AGTGTGCCAGCAGCCGCGGTAATACGAAGGGGGCTAGCGTTGCTCGGAATGACT...GAG', SingleLetterAlphabet()), id='NB501532:123:HMH2CAFXX:1:11101:8553:1152', name='NB501532:123:HMH2CAFXX:1:11101:8553:1152', description='NB501532:123:HMH2CAFXX:1:11101:8553:1152 1:N:0:GATGATGA+CTACCTCG', dbxrefs=[])"
      ]
     },
     "execution_count": 5,
     "metadata": {},
     "output_type": "execute_result"
    }
   ],
   "source": [
    "sequences[0]"
   ]
  }
 ],
 "metadata": {
  "anaconda-cloud": {},
  "kernelspec": {
   "display_name": "Python [conda env:fratjuice]",
   "language": "python",
   "name": "conda-env-fratjuice-py"
  },
  "language_info": {
   "codemirror_mode": {
    "name": "ipython",
    "version": 3
   },
   "file_extension": ".py",
   "mimetype": "text/x-python",
   "name": "python",
   "nbconvert_exporter": "python",
   "pygments_lexer": "ipython3",
   "version": "3.6.1"
  }
 },
 "nbformat": 4,
 "nbformat_minor": 2
}
