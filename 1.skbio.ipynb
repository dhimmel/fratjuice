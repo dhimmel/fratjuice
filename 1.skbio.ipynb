{
 "cells": [
  {
   "cell_type": "markdown",
   "metadata": {},
   "source": [
    "# Process FASTQ files in scikit-bio\n",
    "\n",
    "[Documentation](http://scikit-bio.org/docs/latest/index.html)\n",
    "\n",
    "skbio versus biopython\n",
    "+ https://github.com/biocore/scikit-bio\n",
    "+ https://github.com/biopython/biopython"
   ]
  },
  {
   "cell_type": "code",
   "execution_count": 1,
   "metadata": {
    "collapsed": true
   },
   "outputs": [],
   "source": [
    "import skbio.io\n",
    "import skbio.alignment\n",
    "import pathlib"
   ]
  },
  {
   "cell_type": "code",
   "execution_count": 2,
   "metadata": {},
   "outputs": [
    {
     "data": {
      "text/plain": [
       "[PosixPath('samples/ubiome/ssr_178900/ssr_178900__R1__L001.fastq.gz'),\n",
       " PosixPath('samples/ubiome/ssr_178900/ssr_178900__R1__L002.fastq.gz'),\n",
       " PosixPath('samples/ubiome/ssr_178900/ssr_178900__R1__L003.fastq.gz'),\n",
       " PosixPath('samples/ubiome/ssr_178900/ssr_178900__R1__L004.fastq.gz'),\n",
       " PosixPath('samples/ubiome/ssr_178900/ssr_178900__R2__L001.fastq.gz'),\n",
       " PosixPath('samples/ubiome/ssr_178900/ssr_178900__R2__L002.fastq.gz'),\n",
       " PosixPath('samples/ubiome/ssr_178900/ssr_178900__R2__L003.fastq.gz'),\n",
       " PosixPath('samples/ubiome/ssr_178900/ssr_178900__R2__L004.fastq.gz')]"
      ]
     },
     "execution_count": 2,
     "metadata": {},
     "output_type": "execute_result"
    }
   ],
   "source": [
    "directory = pathlib.Path('samples/ubiome')\n",
    "fastq_paths = sorted(directory.glob('**/*.fastq.gz'))\n",
    "fastq_paths"
   ]
  },
  {
   "cell_type": "code",
   "execution_count": 3,
   "metadata": {},
   "outputs": [
    {
     "name": "stdout",
     "output_type": "stream",
     "text": [
      "CPU times: user 4.12 s, sys: 24 ms, total: 4.14 s\n",
      "Wall time: 4.32 s\n"
     ]
    }
   ],
   "source": [
    "%%time\n",
    "path = str(fastq_paths[0])\n",
    "sequences = skbio.io.read(path, format='fastq', constructor=skbio.DNA)\n",
    "sequences = list(sequences)"
   ]
  },
  {
   "cell_type": "code",
   "execution_count": 4,
   "metadata": {},
   "outputs": [
    {
     "data": {
      "text/plain": [
       "10675"
      ]
     },
     "execution_count": 4,
     "metadata": {},
     "output_type": "execute_result"
    }
   ],
   "source": [
    "len(sequences)"
   ]
  },
  {
   "cell_type": "code",
   "execution_count": 5,
   "metadata": {},
   "outputs": [
    {
     "data": {
      "text/plain": [
       "DNA\n",
       "---------------------------------------------------------------------\n",
       "Metadata:\n",
       "    'description': '1:N:0:GATGATGA+CTACCTCG'\n",
       "    'id': 'NB501532:123:HMH2CAFXX:1:11101:8553:1152'\n",
       "Positional metadata:\n",
       "    'quality': <dtype: uint8>\n",
       "Stats:\n",
       "    length: 151\n",
       "    has gaps: False\n",
       "    has degenerates: False\n",
       "    has definites: True\n",
       "    GC-content: 55.63%\n",
       "---------------------------------------------------------------------\n",
       "0   AGTGTGCCAG CAGCCGCGGT AATACGAAGG GGGCTAGCGT TGCTCGGAAT GACTGGGCGT\n",
       "60  AAAGGGCGTG TAGGCGGTTT GTACAGTCAG ATGTGAAATC CCCGGGCTTA ACCTGGGAGC\n",
       "120 TGCATTTGAT ACGTGCAGAC TAGAGTGTGA G"
      ]
     },
     "execution_count": 5,
     "metadata": {},
     "output_type": "execute_result"
    }
   ],
   "source": [
    "sequences[0]"
   ]
  },
  {
   "cell_type": "markdown",
   "metadata": {},
   "source": [
    "## After joining paired ends"
   ]
  },
  {
   "cell_type": "code",
   "execution_count": 3,
   "metadata": {},
   "outputs": [
    {
     "data": {
      "text/plain": [
       "93"
      ]
     },
     "execution_count": 3,
     "metadata": {},
     "output_type": "execute_result"
    }
   ],
   "source": [
    "path = './samples/ubiome/ssr_178900/join_paired_ends/fastqjoin.join.fastq'\n",
    "sequences = skbio.io.read(path, format='fastq', constructor=skbio.DNA)\n",
    "sequences = list(sequences)\n",
    "len(sequences)"
   ]
  },
  {
   "cell_type": "code",
   "execution_count": 7,
   "metadata": {},
   "outputs": [
    {
     "data": {
      "text/plain": [
       "DNA\n",
       "-----------------------------------------------------\n",
       "Metadata:\n",
       "    'description': '1:N:0:GATGATGA+CTACCTCG'\n",
       "    'id': 'NB501532:123:HMH2CAFXX:1:11108:23979:5586'\n",
       "Positional metadata:\n",
       "    'quality': <dtype: uint8>\n",
       "Stats:\n",
       "    length: 39\n",
       "    has gaps: False\n",
       "    has degenerates: False\n",
       "    has definites: True\n",
       "    GC-content: 69.23%\n",
       "-----------------------------------------------------\n",
       "0 CGTGTGCCAG CAGCCGCGGA TACCCCTGTA GTCCGGGGA"
      ]
     },
     "execution_count": 7,
     "metadata": {},
     "output_type": "execute_result"
    }
   ],
   "source": [
    "sequences[3]"
   ]
  },
  {
   "cell_type": "code",
   "execution_count": null,
   "metadata": {
    "collapsed": true
   },
   "outputs": [],
   "source": []
  }
 ],
 "metadata": {
  "anaconda-cloud": {},
  "kernelspec": {
   "display_name": "Python [conda env:qiime2-2017.7]",
   "language": "python",
   "name": "conda-env-qiime2-2017.7-py"
  },
  "language_info": {
   "codemirror_mode": {
    "name": "ipython",
    "version": 3
   },
   "file_extension": ".py",
   "mimetype": "text/x-python",
   "name": "python",
   "nbconvert_exporter": "python",
   "pygments_lexer": "ipython3",
   "version": "3.5.3"
  }
 },
 "nbformat": 4,
 "nbformat_minor": 2
}
